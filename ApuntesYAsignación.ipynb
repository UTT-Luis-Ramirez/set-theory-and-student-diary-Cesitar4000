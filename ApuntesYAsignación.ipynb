{
  "nbformat": 4,
  "nbformat_minor": 0,
  "metadata": {
    "colab": {
      "provenance": []
    },
    "kernelspec": {
      "name": "python3",
      "display_name": "Python 3"
    },
    "language_info": {
      "name": "python"
    }
  },
  "cells": [
    {
      "cell_type": "markdown",
      "source": [
        "# PROBABILIDAD y ESTADISTICA\n",
        "En esta nueva unidad de la materia **Probabilidad y Estadística**, hemos comenzado a ver más a detalle lo que es la probabilidad como tal, empezando por la **Teoría de Conjuntos** y conociendo un poco más lo que es un conjunto en la Probabilidad y los conceptos básicos de los conjuntos.\n",
        "\n",
        "# **APUNTES**\n",
        "\n",
        "# Conceptos básicos de Conjuntos\n",
        "Un conjunto lo entendí como un arreglo, una variable que dentro de ella contiene más variables o varios datos, en este caso el conjunto sería la variable y los **elementos** del conjunto serían las variables almacenadas dentro de la variable que es nuestro arreglo. Los elementos de un cojunto podrían ser números, letras, objetos, resultados de experimentos, etc.\n",
        "Hicimos el ejemplo con juegos de rol de mesa y, en el caso de los juegos de rol de mesa, los elementos pueden ser los resultados posibles al realizar una tirada de dados de 6 caras.\n",
        "Los conjuntos se denotan con letras mayúsculas, como en álgebra, y sus elementos se escriben entre llaves, separados por comas. Por ejemplo:\n",
        "# A = {1,2,3,4,5,6}\n",
        "\n",
        "# Universo\n",
        "El universo es el conjunto que contiene todos los elementos posibles en un contexto dado. Se denota comúnmente como U.\n",
        "**Ejemplo:** En el lanzamiento de un dado de 6 caras como el ejemplo anterior los resultados representan el universo posible siendo esta la correcta notación:\n",
        "# &cup; = &lbrace;1,2,3,4,5,6&rbrace;\n",
        "\n",
        "# Conjunto Vacío\n",
        "Es un conjunto que no tiene elementos, se denota como &lbrace;&rbrace;\n",
        "**Ejemplo:** En el lanzamiento de un dado de 6 caras, el conjunto de resultados mayores a 6 es:\n",
        "# &lbrace;&rbrace;\n",
        "\n",
        "# Subconjunto\n",
        "Un subconjunto es un conjunto que contiene algunos elementos del universo.\n",
        "**Ejemplo:** A = &lbrace;2,4,6&rbrace; U = &lbrace;1,2,3,4,5,6&rbrace;\n",
        "*A* tiene elementos que *U* también tiene, por lo tanto *A* es un subconjunto de *B*.\n",
        "\n",
        "# Intersección de conjuntos\n",
        "La intersección de dos conjuntos *A* y *B* es el conjunto que pertenece a ambos.\n",
        "**Ejemplo:** *A* = &lbrace;2,4,6&rbrace; B = &lbrace;5,6&rbrace;\n",
        "Se dice entonces, que la intersección de A y B es:\n",
        "# A∩B = &lbrace;6&rbrace;\n",
        "\n",
        "# Unión de conjuntos\n",
        "La unión de dos conjuntos *A* y *B* es el conjunto de elementos que pertenecen a al menos uno de ellos.\n",
        "Si tenemos *A* &lbrace;2,4,6&rbrace; y *B* = &lbrace;5,6&rbrace;, un elemento de *B* pertenece a *A*, así que se convertiría en una unión de conjuntos como:\n",
        "# A∪B = &lbrace;2,4,5,6&rbrace;\n",
        "\n",
        "# Diferencia de conjuntos\n",
        "La diferencia entre dos conjuntos *A* y *B* es el conjunto de elemntos que están en *A* pero no en *B*.\n",
        "**Ejemplo:** Si tenemoa que *A* = &lbrace;2,4,6&rbrace; y *B* = &lbrace;5,6&rbrace;, nuestra diferencia de conjuntos sería:\n",
        "# *A - B* = &lbrace;2,4&rbrace;\n",
        "\n",
        "# Complemento de un conjunto\n",
        "El complemento de un con junto *A* es el conjunto de elementos que no están en *A*, pero sí en el universo *U*.\n",
        "**Ejemplo:** Si tenemos *U* = &lbrace;1,2,3,4,5,6&rbrace; y *A* = &lbrace;2,4,6&rbrace;, nuestro complemento del conjunto sería:\n",
        "# Ã = &lbrace;1,3,5&rbrace;\n",
        "\n",
        "# **CLASE: JUEGO DE ROL**\n",
        "\n",
        "Jugamos un juego de rol en clase, en el juego había 4 personajes disponibles: Caballero, Arquero, Mago y Clérigo. Era por turnos y se jugaba con dados de 6 caras. El Caballero y el Clérigo solo podían tirar 1 dado, mientras que el Arquero podía tirar 2 dados por turno y el Mago podía tirar 3 dados por turno.\n",
        "Nosotros jugamos como Mago, y en cada tirada hicimos un apunte y una separación de los conjuntos que obtuvimos:\n",
        "\n",
        "#**Tirada 1 = &lbrace;5,3,2} / Daño: 2**\n",
        "#**Tirada 2 = &lbrace;6,6,3} / Daño: 12 x 3 (Esto significa que, la tirada nos dio un daño de 12 en esta y en las próximas 2 tiradas, por lo que no se escribirá ese daño en las demás tiradas.)**\n",
        "#**Tirada 3 = &lbrace;1,1,3} / Daño: 0**\n",
        "#**Tirada 4 = &lbrace;2,2,5} / Daño: 12**\n",
        "#**Tirada 5 = &lbrace;2,1,2} / Daño: 0**\n",
        "#**Tirada 6 = &lbrace;6,3,3} / Daño: 6**\n",
        "#**Tirada 7 = &lbrace;1,4,6} / Daño: 0**\n",
        "#**Tirada 8 = &lbrace;6,3,1} / Daño: 48**\n",
        "#**Tirada 9 = &lbrace;2,3,4} / Daño: 0**\n",
        "#**Tirada 10 = &lbrace;3,2,4} / Daño: 5**\n",
        "\n",
        "El daño era el daño que le hacíamos al monstruo contra el que peleábamos, el cual se llamaba Bel'Tharg y tenía 500 puntos de vida."
      ],
      "metadata": {
        "id": "ZBZdwoQ2ZJxh"
      }
    }
  ]
}